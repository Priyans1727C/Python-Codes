{
  "nbformat": 4,
  "nbformat_minor": 0,
  "metadata": {
    "colab": {
      "provenance": []
    },
    "kernelspec": {
      "name": "python3",
      "display_name": "Python 3"
    },
    "language_info": {
      "name": "python"
    }
  },
  "cells": [
    {
      "cell_type": "markdown",
      "source": [
        "# Let's warm up the fundamentals of Python!\n"
      ],
      "metadata": {
        "id": "vO_PVFMSsOfX"
      }
    },
    {
      "cell_type": "markdown",
      "source": [
        "## Simple Input and Output"
      ],
      "metadata": {
        "id": "0rf9tXGbsd3j"
      }
    },
    {
      "cell_type": "markdown",
      "source": [
        "### Task: Print a message \"Welcome to Python Basics, `[user's name]`\" using print and input functions"
      ],
      "metadata": {
        "id": "NKvciejQt2TD"
      }
    },
    {
      "cell_type": "code",
      "source": [
        "print(\"Welcome to Python Basics \",input(\"user's name: \"))"
      ],
      "metadata": {
        "colab": {
          "base_uri": "https://localhost:8080/"
        },
        "id": "WueLbKnJxzO3",
        "outputId": "7fd2d2a2-92b0-4cec-85d2-542f25dc1da8"
      },
      "execution_count": null,
      "outputs": [
        {
          "output_type": "stream",
          "name": "stdout",
          "text": [
            "user's name: priyanshu\n",
            "Welcome to Python Basics  priyanshu\n"
          ]
        }
      ]
    },
    {
      "cell_type": "markdown",
      "source": [
        "## Simple Variables"
      ],
      "metadata": {
        "id": "oJSHQdnVshY8"
      }
    },
    {
      "cell_type": "markdown",
      "source": [
        "### Task: Create variables representing a cat (name \"Kat\"), a price (13.50), a grade (95), a flag (True), an interest rate (5.75%), and check their data types."
      ],
      "metadata": {
        "id": "dn5tqpaMuIJK"
      }
    },
    {
      "cell_type": "code",
      "source": [
        "cat =\"Kat\"\n",
        "price=13.50\n",
        "grade=95\n",
        "flag =True\n",
        "interest_rate=5.75\n",
        "print(type(cat))\n",
        "print(type(price))\n",
        "print(type(grade))\n",
        "print(type(flag))\n",
        "print(type(interest_rate))"
      ],
      "metadata": {
        "colab": {
          "base_uri": "https://localhost:8080/"
        },
        "id": "tKS1BkC-yYTV",
        "outputId": "24051593-167a-49ed-cfdf-8d468c110e72"
      },
      "execution_count": null,
      "outputs": [
        {
          "output_type": "stream",
          "name": "stdout",
          "text": [
            "<class 'str'>\n",
            "<class 'float'>\n",
            "<class 'int'>\n",
            "<class 'bool'>\n",
            "<class 'float'>\n"
          ]
        }
      ]
    },
    {
      "cell_type": "markdown",
      "source": [
        "## Assignment Operations"
      ],
      "metadata": {
        "id": "pfGG8McSsoTJ"
      }
    },
    {
      "cell_type": "markdown",
      "source": [
        "### Task: Swap the value of variable x and y"
      ],
      "metadata": {
        "id": "JfbkTDhMusIK"
      }
    },
    {
      "cell_type": "code",
      "source": [
        "x,y=3,4\n",
        "x,y=y,x\n",
        "print(\"x: \",x,\" \",\"y: \",y)"
      ],
      "metadata": {
        "colab": {
          "base_uri": "https://localhost:8080/"
        },
        "id": "rzN02_dV8ujM",
        "outputId": "cc5e24da-38ad-4a2b-af80-5bfe75fc584b"
      },
      "execution_count": null,
      "outputs": [
        {
          "output_type": "stream",
          "name": "stdout",
          "text": [
            "x:  4   y:  3\n"
          ]
        }
      ]
    },
    {
      "cell_type": "markdown",
      "source": [
        "### Task: Assign variable z with int 5, then with float 5.0, then with string '5.0'. Check the data type for each assignment."
      ],
      "metadata": {
        "id": "MycvuyqwvIRx"
      }
    },
    {
      "cell_type": "code",
      "source": [
        "z=5\n",
        "print(type(z))\n",
        "z=5.0\n",
        "print(type(z))\n",
        "z='5.0'\n",
        "print(type(z))"
      ],
      "metadata": {
        "colab": {
          "base_uri": "https://localhost:8080/"
        },
        "id": "-B5_bAvVzRVo",
        "outputId": "40e52728-2b39-48ae-cf70-6ad9682d9cc7"
      },
      "execution_count": null,
      "outputs": [
        {
          "output_type": "stream",
          "name": "stdout",
          "text": [
            "<class 'int'>\n",
            "<class 'float'>\n",
            "<class 'str'>\n"
          ]
        }
      ]
    },
    {
      "cell_type": "markdown",
      "source": [
        "## Arithmatic Operations"
      ],
      "metadata": {
        "id": "Bzt94I5YsjmI"
      }
    },
    {
      "cell_type": "markdown",
      "source": [
        "### Task: Ask the user to type in two positive int, and compute the result of (+, -, *, /, //, **, %)"
      ],
      "metadata": {
        "id": "5pxvucZ4vVep"
      }
    },
    {
      "cell_type": "code",
      "source": [
        "a=abs(int(input(\"first int: \")))\n",
        "b=abs(int(input(\"second int: \")))\n",
        "print(\"a+b: \",a+b)\n",
        "print(\"a-b: \",a-b)\n",
        "print(\"a/b: \",a/b)\n",
        "print(\"a//b: \",a//b)\n",
        "print(\"a*b: \",a*b)\n",
        "print(\"a%b: \",a%b)\n"
      ],
      "metadata": {
        "colab": {
          "base_uri": "https://localhost:8080/"
        },
        "id": "PRyhQnHJzmYx",
        "outputId": "4801586b-1efc-4c22-eae9-2c7814fff72f"
      },
      "execution_count": null,
      "outputs": [
        {
          "output_type": "stream",
          "name": "stdout",
          "text": [
            "first int: 8\n",
            "second int: 2\n",
            "a+b:  10\n",
            "a-b:  6\n",
            "a/b:  4.0\n",
            "a//b:  4\n",
            "a*b:  16\n",
            "a%b:  0\n"
          ]
        }
      ]
    },
    {
      "cell_type": "markdown",
      "source": [
        "## Relational Operations"
      ],
      "metadata": {
        "id": "yXpRpk0Kstti"
      }
    },
    {
      "cell_type": "markdown",
      "source": [
        "### Task: Ask the user to type in two numbers, and compute the result of (<, <=, ==, >=, >, !=)"
      ],
      "metadata": {
        "id": "6NmFjmfzvpic"
      }
    },
    {
      "cell_type": "code",
      "source": [
        "a=int(input(\"first int: \"))\n",
        "b=int(input(\"second int: \"))\n",
        "print(\"a<b: \",a<b)\n",
        "print(\"a<=b: \",a<=b)\n",
        "print(\"a==b: \",a==b)\n",
        "print(\"a>=b: \",a>=b)\n",
        "print(\"a>b: \",a>b)\n",
        "print(\"a!=b: \",a!=b)"
      ],
      "metadata": {
        "colab": {
          "base_uri": "https://localhost:8080/"
        },
        "id": "z2Vml-TU0x2B",
        "outputId": "62a08b13-2675-4f32-a6a0-877e7cc472b6"
      },
      "execution_count": null,
      "outputs": [
        {
          "output_type": "stream",
          "name": "stdout",
          "text": [
            "first int: 1\n",
            "second int: 2\n",
            "a<b:  True\n",
            "a<=b:  True\n",
            "a==b:  False\n",
            "a>=b:  False\n",
            "a>b:  False\n",
            "a!=b:  True\n"
          ]
        }
      ]
    },
    {
      "cell_type": "markdown",
      "source": [
        "## Logical Operations"
      ],
      "metadata": {
        "id": "shMmR1ZVsvgo"
      }
    },
    {
      "cell_type": "markdown",
      "source": [
        "### Task: Let x be `True` and y be `False`. Compute and print the result of (and, or, not)"
      ],
      "metadata": {
        "id": "yogvvlOLvyRI"
      }
    },
    {
      "cell_type": "code",
      "source": [
        "x=True\n",
        "y=False\n",
        "print(\"x and y: \",x and y)\n",
        "print(\"x or y: \",x or y)\n",
        "print(\"not x: \",not x)\n",
        "print(\"not y: \",not y)\n"
      ],
      "metadata": {
        "colab": {
          "base_uri": "https://localhost:8080/"
        },
        "id": "GbP1Iizp1__5",
        "outputId": "9ca21ce9-8f63-48b3-9221-a22036a31a98"
      },
      "execution_count": null,
      "outputs": [
        {
          "output_type": "stream",
          "name": "stdout",
          "text": [
            "x and y:  False\n",
            "x or y:  True\n",
            "not x:  False\n",
            "not y:  True\n"
          ]
        }
      ]
    },
    {
      "cell_type": "markdown",
      "source": [
        "## Branching"
      ],
      "metadata": {
        "id": "ZrauvK3wszGK"
      }
    },
    {
      "cell_type": "markdown",
      "source": [
        "### Task: What day is today?\n",
        "\n",
        "Write a program that asks the user for a number in the range of 1 through 7. The program should display the corresponding day of the week, where\n",
        "\n",
        "* 1    = Monday,\n",
        "* 2    = Tuesday,\n",
        "* 3    = Wednesday,\n",
        "* 4    = Thursday,\n",
        "* 5    = Friday,\n",
        "* 6    = Saturday, and\n",
        "* 7    = Sunday\n",
        "* all other value entered = ERROR"
      ],
      "metadata": {
        "id": "YqtEdNxqv-a_"
      }
    },
    {
      "cell_type": "code",
      "source": [
        "number=int(input(\"number: \"))\n",
        "\n",
        "if(number==1):\n",
        "  print(\"Monday\")\n",
        "elif(number==2):\n",
        "  print(\"Tuesday\")\n",
        "elif(number==3):\n",
        "  print(\"Wednesday\")\n",
        "elif(number==4):\n",
        "  print(\"Thursday\")\n",
        "elif(number==5):\n",
        "  print(\"Friday\")\n",
        "elif(number==6):\n",
        "  print(\"Saturday\")\n",
        "elif(number==7):\n",
        "  print(\"Sunday\")\n",
        "else:\n",
        "  print(\"ERROR\")"
      ],
      "metadata": {
        "colab": {
          "base_uri": "https://localhost:8080/"
        },
        "id": "Si0bBmiI2nnV",
        "outputId": "8c48c09a-85a5-4128-fdbb-11600babcf49"
      },
      "execution_count": null,
      "outputs": [
        {
          "output_type": "stream",
          "name": "stdout",
          "text": [
            "number: 9\n",
            "ERROR\n"
          ]
        }
      ]
    },
    {
      "cell_type": "markdown",
      "source": [
        "## Repetition"
      ],
      "metadata": {
        "id": "iidoIykas0yZ"
      }
    },
    {
      "cell_type": "markdown",
      "source": [
        "### Task: Keep saving until you can retire.\n",
        "\n",
        "Write a program to simulate how to save money for retirement.\n",
        "\n",
        "1.  Asks the user for a number representing a new positive deposit for the retirement fund.\n",
        "1.  Print out the amount of the deposit as well as the balance for each transaction.\n",
        "1.  When the balance is equal or more than 1 million, print a message \"You can retire now\" to the user.\n",
        "1.  Print \"Congratualtions!\" and exit the program."
      ],
      "metadata": {
        "id": "meRSoUjZwhSd"
      }
    },
    {
      "cell_type": "code",
      "source": [
        "balance= 0\n",
        "while balance<=1000000:\n",
        "  deposit=float(input(\"deposite amount: \"))\n",
        "  balance +=deposit\n",
        "  print(\"Balance: \",balance)\n",
        "  if(balance>=1000000):\n",
        "    print(\"You can retire now \\nCongratualtions!\")\n"
      ],
      "metadata": {
        "colab": {
          "base_uri": "https://localhost:8080/"
        },
        "id": "vhzg6D-L5ga2",
        "outputId": "4dcf9471-13f4-41bc-e4bb-d217fd7b0c0a"
      },
      "execution_count": null,
      "outputs": [
        {
          "output_type": "stream",
          "name": "stdout",
          "text": [
            "deposite amount: 100000\n",
            "deposite amount: 100000\n",
            "deposite amount: 10000000\n",
            "You can retire now \n",
            "Congratualtions!\n"
          ]
        }
      ]
    }
  ]
}