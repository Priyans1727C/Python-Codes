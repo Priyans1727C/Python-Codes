{
  "nbformat": 4,
  "nbformat_minor": 0,
  "metadata": {
    "colab": {
      "provenance": []
    },
    "kernelspec": {
      "name": "python3",
      "display_name": "Python 3"
    },
    "language_info": {
      "name": "python"
    }
  },
  "cells": [
    {
      "cell_type": "markdown",
      "source": [
        "# Setup"
      ],
      "metadata": {
        "id": "rlyrMcUW1qKQ"
      }
    },
    {
      "cell_type": "code",
      "execution_count": null,
      "metadata": {
        "id": "7ezrl4Bz1ooS"
      },
      "outputs": [],
      "source": [
        "import numpy as np\n",
        "import pandas as pd"
      ]
    },
    {
      "cell_type": "markdown",
      "source": [
        "#Creation\n",
        "##Panda Series"
      ],
      "metadata": {
        "id": "8by2T-Ta17th"
      }
    },
    {
      "cell_type": "code",
      "source": [
        "import numpy as np\n",
        "import pandas as pd\n",
        "\n",
        "s1= pd.Series(np.arange(5))\n",
        "s1\n"
      ],
      "metadata": {
        "colab": {
          "base_uri": "https://localhost:8080/"
        },
        "id": "jX-R-cnJ2LKf",
        "outputId": "0f3cf919-99ab-49a1-8ba4-4e10c76c45c4"
      },
      "execution_count": null,
      "outputs": [
        {
          "output_type": "execute_result",
          "data": {
            "text/plain": [
              "0    0\n",
              "1    1\n",
              "2    2\n",
              "3    3\n",
              "4    4\n",
              "dtype: int64"
            ]
          },
          "metadata": {},
          "execution_count": 10
        }
      ]
    },
    {
      "cell_type": "code",
      "source": [
        "type(np.arange(5))"
      ],
      "metadata": {
        "colab": {
          "base_uri": "https://localhost:8080/"
        },
        "id": "_1p0-wIT3WcK",
        "outputId": "95907d24-3dc0-4b9e-c4e1-dfa5ad033353"
      },
      "execution_count": null,
      "outputs": [
        {
          "output_type": "execute_result",
          "data": {
            "text/plain": [
              "numpy.ndarray"
            ]
          },
          "metadata": {},
          "execution_count": 11
        }
      ]
    },
    {
      "cell_type": "markdown",
      "source": [
        "# Creating series with index"
      ],
      "metadata": {
        "id": "dBNIPqu03b2n"
      }
    },
    {
      "cell_type": "code",
      "source": [
        "s2=pd.Series(np.arange(5),index = ['a','b','c','d','e'])\n",
        "s2"
      ],
      "metadata": {
        "colab": {
          "base_uri": "https://localhost:8080/"
        },
        "id": "lk3E3NgV3jI6",
        "outputId": "7940164b-1f74-4569-b2db-8e9cc8310831"
      },
      "execution_count": null,
      "outputs": [
        {
          "output_type": "execute_result",
          "data": {
            "text/plain": [
              "a    0\n",
              "b    1\n",
              "c    2\n",
              "d    3\n",
              "e    4\n",
              "dtype: int64"
            ]
          },
          "metadata": {},
          "execution_count": 20
        }
      ]
    },
    {
      "cell_type": "markdown",
      "source": [
        "# Assign index to existing Series"
      ],
      "metadata": {
        "id": "yV75_ROm4poJ"
      }
    },
    {
      "cell_type": "code",
      "source": [
        "s2.index=['A','B','C','D','E']\n",
        "s2"
      ],
      "metadata": {
        "colab": {
          "base_uri": "https://localhost:8080/"
        },
        "id": "XmTtnY-t427O",
        "outputId": "fa3cd132-3f46-4660-cb87-058788a8bcb8"
      },
      "execution_count": null,
      "outputs": [
        {
          "output_type": "execute_result",
          "data": {
            "text/plain": [
              "A    0\n",
              "B    1\n",
              "C    2\n",
              "D    3\n",
              "E    4\n",
              "dtype: int64"
            ]
          },
          "metadata": {},
          "execution_count": 21
        }
      ]
    },
    {
      "cell_type": "code",
      "source": [
        "s2.index"
      ],
      "metadata": {
        "colab": {
          "base_uri": "https://localhost:8080/"
        },
        "id": "kp4WytSh5GbH",
        "outputId": "cc37dff9-627d-498a-e3af-9bf93eaaf21e"
      },
      "execution_count": null,
      "outputs": [
        {
          "output_type": "execute_result",
          "data": {
            "text/plain": [
              "Index(['A', 'B', 'C', 'D', 'E'], dtype='object')"
            ]
          },
          "metadata": {},
          "execution_count": 22
        }
      ]
    },
    {
      "cell_type": "markdown",
      "source": [
        "# Create One-Item Series From Scaler"
      ],
      "metadata": {
        "id": "kXsxSXDI5Lfj"
      }
    },
    {
      "cell_type": "code",
      "source": [
        "s3=pd.Series(5)\n",
        "s3"
      ],
      "metadata": {
        "colab": {
          "base_uri": "https://localhost:8080/"
        },
        "id": "rkxZPOR-5W3n",
        "outputId": "c196ef21-5b5d-4a6c-ada9-83a804c60ed3"
      },
      "execution_count": null,
      "outputs": [
        {
          "output_type": "execute_result",
          "data": {
            "text/plain": [
              "0    5\n",
              "dtype: int64"
            ]
          },
          "metadata": {},
          "execution_count": 23
        }
      ]
    },
    {
      "cell_type": "markdown",
      "source": [
        "# Create Series from list"
      ],
      "metadata": {
        "id": "UhIVxBUt5ocR"
      }
    },
    {
      "cell_type": "code",
      "source": [
        "s5 =pd.Series(['A','B','C','D'])\n",
        "s5"
      ],
      "metadata": {
        "colab": {
          "base_uri": "https://localhost:8080/"
        },
        "id": "gSiZh6RP5tuF",
        "outputId": "94ff5d38-e060-4c46-ad64-f6d5b233db00"
      },
      "execution_count": null,
      "outputs": [
        {
          "output_type": "execute_result",
          "data": {
            "text/plain": [
              "0    A\n",
              "1    B\n",
              "2    C\n",
              "3    D\n",
              "dtype: object"
            ]
          },
          "metadata": {},
          "execution_count": 24
        }
      ]
    },
    {
      "cell_type": "code",
      "source": [
        "s5.index"
      ],
      "metadata": {
        "colab": {
          "base_uri": "https://localhost:8080/"
        },
        "id": "6f2GW-3O6DSN",
        "outputId": "9e9305a1-741a-4cca-c0b6-ebb69613c0e4"
      },
      "execution_count": null,
      "outputs": [
        {
          "output_type": "execute_result",
          "data": {
            "text/plain": [
              "RangeIndex(start=0, stop=4, step=1)"
            ]
          },
          "metadata": {},
          "execution_count": 25
        }
      ]
    },
    {
      "cell_type": "markdown",
      "source": [
        "# Create Series from dict"
      ],
      "metadata": {
        "id": "A_lWJ69E6Kci"
      }
    },
    {
      "cell_type": "code",
      "source": [
        "data = {\n",
        "    'Name':'A',\n",
        "    'Class':'B',\n",
        "    'Section':'C'\n",
        "}\n",
        "\n",
        "s6 =pd.Series(data)\n",
        "# s6.index =[1,2,3]\n",
        "s6"
      ],
      "metadata": {
        "colab": {
          "base_uri": "https://localhost:8080/"
        },
        "id": "NtUD7Sg56NiR",
        "outputId": "b700ba28-06ad-4b41-cd42-baf8821662ae"
      },
      "execution_count": null,
      "outputs": [
        {
          "output_type": "execute_result",
          "data": {
            "text/plain": [
              "Name       A\n",
              "Class      B\n",
              "Section    C\n",
              "dtype: object"
            ]
          },
          "metadata": {},
          "execution_count": 30
        }
      ]
    },
    {
      "cell_type": "code",
      "source": [
        "ar =np.array([1,2,3,np.nan,5,6,np.nan,9,10])\n",
        "ar"
      ],
      "metadata": {
        "colab": {
          "base_uri": "https://localhost:8080/"
        },
        "id": "kegYNOI-7f9Q",
        "outputId": "6ab2c7f9-d41f-43c7-e604-41986445b773"
      },
      "execution_count": null,
      "outputs": [
        {
          "output_type": "execute_result",
          "data": {
            "text/plain": [
              "array([ 1.,  2.,  3., nan,  5.,  6., nan,  9., 10.])"
            ]
          },
          "metadata": {},
          "execution_count": 32
        }
      ]
    },
    {
      "cell_type": "code",
      "source": [
        "ar.mean()"
      ],
      "metadata": {
        "colab": {
          "base_uri": "https://localhost:8080/"
        },
        "id": "p9H1v8zl72vo",
        "outputId": "4097241a-5154-441e-db7f-6b52a7ac8c1f"
      },
      "execution_count": null,
      "outputs": [
        {
          "output_type": "execute_result",
          "data": {
            "text/plain": [
              "nan"
            ]
          },
          "metadata": {},
          "execution_count": 33
        }
      ]
    },
    {
      "cell_type": "code",
      "source": [
        "s7=pd.Series(ar)\n",
        "print(s7,\"\\nMean: \",s7.mean())\n"
      ],
      "metadata": {
        "colab": {
          "base_uri": "https://localhost:8080/"
        },
        "id": "hRiOAc8r7_UY",
        "outputId": "b0de2a8f-7a79-4ad5-a0ed-fd3a8c3b65f0"
      },
      "execution_count": null,
      "outputs": [
        {
          "output_type": "stream",
          "name": "stdout",
          "text": [
            "0     1.0\n",
            "1     2.0\n",
            "2     3.0\n",
            "3     NaN\n",
            "4     5.0\n",
            "5     6.0\n",
            "6     NaN\n",
            "7     9.0\n",
            "8    10.0\n",
            "dtype: float64 \n",
            "Mean:  5.142857142857143\n"
          ]
        }
      ]
    },
    {
      "cell_type": "code",
      "source": [
        "s7.mean(skipna=False)"
      ],
      "metadata": {
        "colab": {
          "base_uri": "https://localhost:8080/"
        },
        "id": "qPhUF1ML8ay_",
        "outputId": "ce517d38-bc7c-4bca-8b52-4d5ca28b6fc8"
      },
      "execution_count": null,
      "outputs": [
        {
          "output_type": "execute_result",
          "data": {
            "text/plain": [
              "nan"
            ]
          },
          "metadata": {},
          "execution_count": 38
        }
      ]
    },
    {
      "cell_type": "markdown",
      "source": [
        "# The index and values Properties"
      ],
      "metadata": {
        "id": "hyinGfRE8mpR"
      }
    },
    {
      "cell_type": "code",
      "source": [
        "print(s6.index)\n",
        "print(s6.values)\n",
        "print(type(s6.values))"
      ],
      "metadata": {
        "colab": {
          "base_uri": "https://localhost:8080/"
        },
        "id": "rrGgJ6Ot8sqq",
        "outputId": "099ced9f-6b24-4098-9fbe-263b627c6be7"
      },
      "execution_count": null,
      "outputs": [
        {
          "output_type": "stream",
          "name": "stdout",
          "text": [
            "Index(['Name', 'Class', 'Section'], dtype='object')\n",
            "['A' 'B' 'C']\n",
            "<class 'numpy.ndarray'>\n"
          ]
        }
      ]
    },
    {
      "cell_type": "markdown",
      "source": [
        "# Access"
      ],
      "metadata": {
        "id": "F1354w359VUj"
      }
    },
    {
      "cell_type": "markdown",
      "source": [
        "##loc[] and iloc[]"
      ],
      "metadata": {
        "id": "E-jMS6789dU5"
      }
    },
    {
      "cell_type": "code",
      "source": [
        "print(s6)\n",
        "print(s6.loc['Class'])\n",
        "print(s6.iloc[1])\n",
        "print(s6.loc[:])\n",
        "print(s6.iloc[:])\n",
        "print(s6.loc[['Name','Section']])\n"
      ],
      "metadata": {
        "colab": {
          "base_uri": "https://localhost:8080/"
        },
        "id": "BDRHB8UP9aVW",
        "outputId": "6c99a6ea-64de-4865-b764-211f2889f8e4"
      },
      "execution_count": null,
      "outputs": [
        {
          "output_type": "stream",
          "name": "stdout",
          "text": [
            "Name       A\n",
            "Class      B\n",
            "Section    C\n",
            "dtype: object\n",
            "B\n",
            "B\n",
            "Name       A\n",
            "Class      B\n",
            "Section    C\n",
            "dtype: object\n",
            "Name       A\n",
            "Class      B\n",
            "Section    C\n",
            "dtype: object\n",
            "Name       A\n",
            "Section    C\n",
            "dtype: object\n"
          ]
        }
      ]
    },
    {
      "cell_type": "markdown",
      "source": [
        "#Manipulation\n",
        "##Alignment"
      ],
      "metadata": {
        "id": "lV7vBiu0-xSV"
      }
    },
    {
      "cell_type": "code",
      "source": [
        "grades1=pd.Series([17,44,28,8,3],index=['a','b','c','d','f'])\n",
        "grades2=pd.Series([76, 122, 151, 21, 0],index=['d','c','b','a','f'])\n",
        "\n",
        "total=grades1+grades2\n",
        "total"
      ],
      "metadata": {
        "colab": {
          "base_uri": "https://localhost:8080/"
        },
        "id": "Y6OeWrpi-5Z5",
        "outputId": "7242a507-8ce2-496d-f14b-c8eff0d027d2"
      },
      "execution_count": null,
      "outputs": [
        {
          "output_type": "execute_result",
          "data": {
            "text/plain": [
              "a     38\n",
              "b    195\n",
              "c    150\n",
              "d     84\n",
              "f      3\n",
              "dtype: int64"
            ]
          },
          "metadata": {},
          "execution_count": 52
        }
      ]
    },
    {
      "cell_type": "code",
      "source": [
        "grades1=pd.Series([17,44,28,8,3],index=['a','b','c','d','f'])\n",
        "grades2=pd.Series([76, 122, 151, 21],index=['d','c','b','a'])\n",
        "\n",
        "total=grades1+grades2\n",
        "total"
      ],
      "metadata": {
        "colab": {
          "base_uri": "https://localhost:8080/"
        },
        "id": "GeOHkH7PAFXJ",
        "outputId": "ce14890a-7491-4c7c-b2a7-4d185026a4f3"
      },
      "execution_count": null,
      "outputs": [
        {
          "output_type": "execute_result",
          "data": {
            "text/plain": [
              "a     38.0\n",
              "b    195.0\n",
              "c    150.0\n",
              "d     84.0\n",
              "f      NaN\n",
              "dtype: float64"
            ]
          },
          "metadata": {},
          "execution_count": 53
        }
      ]
    },
    {
      "cell_type": "code",
      "source": [
        "total=grades1.add(grades2,fill_value=10)\n",
        "total"
      ],
      "metadata": {
        "colab": {
          "base_uri": "https://localhost:8080/"
        },
        "id": "Jqa1SXSYAR-H",
        "outputId": "1e3abe33-49dc-4c00-dd6e-e8ae45d09050"
      },
      "execution_count": null,
      "outputs": [
        {
          "output_type": "execute_result",
          "data": {
            "text/plain": [
              "a     38.0\n",
              "b    195.0\n",
              "c    150.0\n",
              "d     84.0\n",
              "f     13.0\n",
              "dtype: float64"
            ]
          },
          "metadata": {},
          "execution_count": 54
        }
      ]
    },
    {
      "cell_type": "markdown",
      "source": [
        "#Comparing Series"
      ],
      "metadata": {
        "id": "wTnah1QrAmKZ"
      }
    },
    {
      "cell_type": "code",
      "source": [
        "s=np.random.randint(1,7,(100,))\n",
        "s2=np.random.randint(1,7,(100,))\n",
        "dices1=pd.Series(s)\n",
        "dices2=pd.Series(s2)\n",
        "print(type(dices1==dices2))\n",
        "dices1==dices2"
      ],
      "metadata": {
        "colab": {
          "base_uri": "https://localhost:8080/"
        },
        "id": "x_Ir3ktgAn2f",
        "outputId": "b3097964-05ae-47bb-f8a6-4a7678e46c61"
      },
      "execution_count": null,
      "outputs": [
        {
          "output_type": "stream",
          "name": "stdout",
          "text": [
            "<class 'pandas.core.series.Series'>\n"
          ]
        },
        {
          "output_type": "execute_result",
          "data": {
            "text/plain": [
              "0      True\n",
              "1     False\n",
              "2     False\n",
              "3      True\n",
              "4     False\n",
              "      ...  \n",
              "95    False\n",
              "96     True\n",
              "97    False\n",
              "98    False\n",
              "99    False\n",
              "Length: 100, dtype: bool"
            ]
          },
          "metadata": {},
          "execution_count": 60
        }
      ]
    },
    {
      "cell_type": "markdown",
      "source": [
        "#Element-wise Operations"
      ],
      "metadata": {
        "id": "xUkiG3tGCNAx"
      }
    },
    {
      "cell_type": "code",
      "source": [
        "np.random.seed(1)\n",
        "exam_grades = pd.Series(np.random.randint(60,101,100))\n",
        "exam_grades"
      ],
      "metadata": {
        "colab": {
          "base_uri": "https://localhost:8080/"
        },
        "id": "DVwgmZ_CCVYy",
        "outputId": "7355fd46-802a-4573-ace3-654be8f3e238"
      },
      "execution_count": null,
      "outputs": [
        {
          "output_type": "execute_result",
          "data": {
            "text/plain": [
              "0     97\n",
              "1     72\n",
              "2     68\n",
              "3     69\n",
              "4     71\n",
              "      ..\n",
              "95    87\n",
              "96    81\n",
              "97    71\n",
              "98    67\n",
              "99    73\n",
              "Length: 100, dtype: int64"
            ]
          },
          "metadata": {},
          "execution_count": 63
        }
      ]
    },
    {
      "cell_type": "code",
      "source": [
        "curved_grades = exam_grades.multiply(1.05)\n",
        "curved_grades"
      ],
      "metadata": {
        "colab": {
          "base_uri": "https://localhost:8080/"
        },
        "id": "GOPfWK_DCx7E",
        "outputId": "b78af1b2-5fa2-40d7-da30-ec8f1d1180b8"
      },
      "execution_count": null,
      "outputs": [
        {
          "output_type": "execute_result",
          "data": {
            "text/plain": [
              "0     101.85\n",
              "1      75.60\n",
              "2      71.40\n",
              "3      72.45\n",
              "4      74.55\n",
              "       ...  \n",
              "95     91.35\n",
              "96     85.05\n",
              "97     74.55\n",
              "98     70.35\n",
              "99     76.65\n",
              "Length: 100, dtype: float64"
            ]
          },
          "metadata": {},
          "execution_count": 64
        }
      ]
    },
    {
      "cell_type": "code",
      "source": [
        "def convert_to_letter(grade):\n",
        "    if grade >= 90:\n",
        "        return 'A'\n",
        "    elif grade >= 80:\n",
        "        return 'B'\n",
        "    elif grade >= 70:\n",
        "        return 'C'\n",
        "    elif grade >= 65:\n",
        "        return 'D'\n",
        "    else:\n",
        "        return 'F'\n",
        "\n",
        "letter_grades = curved_grades.apply(convert_to_letter)\n",
        "letter_grades"
      ],
      "metadata": {
        "colab": {
          "base_uri": "https://localhost:8080/"
        },
        "id": "YlCYXEwFC2dT",
        "outputId": "046ba73f-7e42-44ae-a386-381c4af92c9b"
      },
      "execution_count": null,
      "outputs": [
        {
          "output_type": "execute_result",
          "data": {
            "text/plain": [
              "0     A\n",
              "1     C\n",
              "2     C\n",
              "3     C\n",
              "4     C\n",
              "     ..\n",
              "95    A\n",
              "96    B\n",
              "97    C\n",
              "98    C\n",
              "99    C\n",
              "Length: 100, dtype: object"
            ]
          },
          "metadata": {},
          "execution_count": 66
        }
      ]
    },
    {
      "cell_type": "code",
      "source": [
        "part_letter_grade = curved_grades.iloc[:50].apply(convert_to_letter)\n",
        "part_letter_grade"
      ],
      "metadata": {
        "colab": {
          "base_uri": "https://localhost:8080/"
        },
        "id": "L-1XuOUzDJ4l",
        "outputId": "ffadf186-5d7d-4e6c-acd1-2d323d6bf2de"
      },
      "execution_count": null,
      "outputs": [
        {
          "output_type": "execute_result",
          "data": {
            "text/plain": [
              "0     A\n",
              "1     C\n",
              "2     C\n",
              "3     C\n",
              "4     C\n",
              "5     D\n",
              "6     C\n",
              "7     F\n",
              "8     C\n",
              "9     F\n",
              "10    C\n",
              "11    C\n",
              "12    D\n",
              "13    B\n",
              "14    B\n",
              "15    A\n",
              "16    B\n",
              "17    B\n",
              "18    C\n",
              "19    A\n",
              "20    A\n",
              "21    C\n",
              "22    D\n",
              "23    B\n",
              "24    B\n",
              "25    A\n",
              "26    A\n",
              "27    B\n",
              "28    C\n",
              "29    C\n",
              "30    C\n",
              "31    B\n",
              "32    F\n",
              "33    F\n",
              "34    B\n",
              "35    C\n",
              "36    B\n",
              "37    C\n",
              "38    C\n",
              "39    A\n",
              "40    C\n",
              "41    D\n",
              "42    D\n",
              "43    B\n",
              "44    D\n",
              "45    D\n",
              "46    B\n",
              "47    C\n",
              "48    A\n",
              "49    C\n",
              "dtype: object"
            ]
          },
          "metadata": {},
          "execution_count": 67
        }
      ]
    }
  ]
}